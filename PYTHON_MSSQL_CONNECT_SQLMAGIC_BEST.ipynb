{
 "cells": [
  {
   "cell_type": "code",
   "execution_count": 3,
   "metadata": {},
   "outputs": [
    {
     "name": "stdout",
     "output_type": "stream",
     "text": [
      "The sql extension is already loaded. To reload it, use:\n",
      "  %reload_ext sql\n"
     ]
    }
   ],
   "source": [
    "import pandas as pd\n",
    "import pyodbc   # library to connect to the data base\n",
    "import numpy as np\n",
    "import sqlalchemy\n",
    "%load_ext sql   # SQL magic string\n",
    "import urllib"
   ]
  },
  {
   "cell_type": "code",
   "execution_count": 4,
   "metadata": {},
   "outputs": [],
   "source": [
    "#Connections to MS SQL Server\n",
    "connection_str = \"DRIVER={SQL SERVER};SERVER=DESKTOP-4E75C8B;DATABASE=Rob;TRUSTED_CONNECTION=YES\"\n",
    "connection_str_quoted = urllib.parse.quote_plus(connection_str)\n",
    "connection_uri = 'mssql+pyodbc:///?odbc_connect={}'.format(connection_str_quoted)\n",
    "\n",
    "# this is how you would connect in sqlalchemy\n",
    "import sqlalchemy\n",
    "conn = sqlalchemy.create_engine(connection_uri)\n",
    "\n",
    "%sql {connection_uri}"
   ]
  },
  {
   "cell_type": "code",
   "execution_count": 5,
   "metadata": {},
   "outputs": [
    {
     "name": "stdout",
     "output_type": "stream",
     "text": [
      " * mssql+pyodbc:///?odbc_connect=DRIVER={SQL SERVER};SERVER=DESKTOP-4E75C8B;DATABASE=Rob;TRUSTED_CONNECTION=YES\n",
      "Done.\n"
     ]
    },
    {
     "data": {
      "text/html": [
       "<table>\n",
       "    <tr>\n",
       "        <th>Roll</th>\n",
       "        <th>Name</th>\n",
       "        <th>Fname</th>\n",
       "        <th>Mobile</th>\n",
       "        <th>Email</th>\n",
       "    </tr>\n",
       "    <tr>\n",
       "        <td>1</td>\n",
       "        <td>Robin</td>\n",
       "        <td>Gaj</td>\n",
       "        <td>9811841133</td>\n",
       "        <td>robteotia@gmail.com</td>\n",
       "    </tr>\n",
       "    <tr>\n",
       "        <td>2</td>\n",
       "        <td>Yuvika</td>\n",
       "        <td>Gaj</td>\n",
       "        <td>9211842233</td>\n",
       "        <td>abcd@gmail.com</td>\n",
       "    </tr>\n",
       "    <tr>\n",
       "        <td>3</td>\n",
       "        <td>Priya</td>\n",
       "        <td>John</td>\n",
       "        <td>9811841133</td>\n",
       "        <td>zy@gamil.com</td>\n",
       "    </tr>\n",
       "</table>"
      ],
      "text/plain": [
       "[(1, 'Robin', 'Gaj', 9811841133, 'robteotia@gmail.com'),\n",
       " (2, 'Yuvika', 'Gaj', 9211842233, 'abcd@gmail.com'),\n",
       " (3, 'Priya', 'John', 9811841133, 'zy@gamil.com')]"
      ]
     },
     "execution_count": 5,
     "metadata": {},
     "output_type": "execute_result"
    }
   ],
   "source": [
    "%%sql\n",
    "select * from student"
   ]
  },
  {
   "cell_type": "code",
   "execution_count": 6,
   "metadata": {},
   "outputs": [
    {
     "name": "stdout",
     "output_type": "stream",
     "text": [
      " * mssql+pyodbc:///?odbc_connect=DRIVER={SQL SERVER};SERVER=DESKTOP-4E75C8B;DATABASE=Rob;TRUSTED_CONNECTION=YES\n",
      "1 rows affected.\n"
     ]
    },
    {
     "data": {
      "text/plain": [
       "[]"
      ]
     },
     "execution_count": 6,
     "metadata": {},
     "output_type": "execute_result"
    }
   ],
   "source": [
    "%%sql\n",
    "Insert into student\n",
    "Values(4,'jack','Arnold',3337778889,'jack@gmail.com')"
   ]
  },
  {
   "cell_type": "code",
   "execution_count": 7,
   "metadata": {},
   "outputs": [
    {
     "name": "stdout",
     "output_type": "stream",
     "text": [
      " * mssql+pyodbc:///?odbc_connect=DRIVER={SQL SERVER};SERVER=DESKTOP-4E75C8B;DATABASE=Rob;TRUSTED_CONNECTION=YES\n",
      "Done.\n"
     ]
    },
    {
     "data": {
      "text/html": [
       "<table>\n",
       "    <tr>\n",
       "        <th>Roll</th>\n",
       "        <th>Name</th>\n",
       "        <th>Fname</th>\n",
       "        <th>Mobile</th>\n",
       "        <th>Email</th>\n",
       "    </tr>\n",
       "    <tr>\n",
       "        <td>1</td>\n",
       "        <td>Robin</td>\n",
       "        <td>Gaj</td>\n",
       "        <td>9811841133</td>\n",
       "        <td>robteotia@gmail.com</td>\n",
       "    </tr>\n",
       "    <tr>\n",
       "        <td>2</td>\n",
       "        <td>Yuvika</td>\n",
       "        <td>Gaj</td>\n",
       "        <td>9211842233</td>\n",
       "        <td>abcd@gmail.com</td>\n",
       "    </tr>\n",
       "    <tr>\n",
       "        <td>3</td>\n",
       "        <td>Priya</td>\n",
       "        <td>John</td>\n",
       "        <td>9811841133</td>\n",
       "        <td>zy@gamil.com</td>\n",
       "    </tr>\n",
       "    <tr>\n",
       "        <td>4</td>\n",
       "        <td>jack</td>\n",
       "        <td>Arnold</td>\n",
       "        <td>3337778889</td>\n",
       "        <td>jack@gmail.com</td>\n",
       "    </tr>\n",
       "</table>"
      ],
      "text/plain": [
       "[(1, 'Robin', 'Gaj', 9811841133, 'robteotia@gmail.com'),\n",
       " (2, 'Yuvika', 'Gaj', 9211842233, 'abcd@gmail.com'),\n",
       " (3, 'Priya', 'John', 9811841133, 'zy@gamil.com'),\n",
       " (4, 'jack', 'Arnold', 3337778889, 'jack@gmail.com')]"
      ]
     },
     "execution_count": 7,
     "metadata": {},
     "output_type": "execute_result"
    }
   ],
   "source": [
    "%%sql\n",
    "select * from student"
   ]
  },
  {
   "cell_type": "code",
   "execution_count": 9,
   "metadata": {},
   "outputs": [
    {
     "name": "stdout",
     "output_type": "stream",
     "text": [
      " * mssql+pyodbc:///?odbc_connect=DRIVER={SQL SERVER};SERVER=DESKTOP-4E75C8B;DATABASE=Rob;TRUSTED_CONNECTION=YES\n",
      "Done.\n"
     ]
    },
    {
     "data": {
      "text/html": [
       "<table>\n",
       "    <tr>\n",
       "        <th>Name</th>\n",
       "        <th>Mobile</th>\n",
       "    </tr>\n",
       "    <tr>\n",
       "        <td>Robin</td>\n",
       "        <td>9811841133</td>\n",
       "    </tr>\n",
       "</table>"
      ],
      "text/plain": [
       "[('Robin', 9811841133)]"
      ]
     },
     "execution_count": 9,
     "metadata": {},
     "output_type": "execute_result"
    }
   ],
   "source": [
    "%%sql\n",
    "SELECT Name,Mobile\n",
    "FROM Student WHERE Roll=1\n"
   ]
  },
  {
   "cell_type": "code",
   "execution_count": null,
   "metadata": {},
   "outputs": [],
   "source": []
  }
 ],
 "metadata": {
  "kernelspec": {
   "display_name": "Python 3",
   "language": "python",
   "name": "python3"
  },
  "language_info": {
   "codemirror_mode": {
    "name": "ipython",
    "version": 3
   },
   "file_extension": ".py",
   "mimetype": "text/x-python",
   "name": "python",
   "nbconvert_exporter": "python",
   "pygments_lexer": "ipython3",
   "version": "3.7.6"
  }
 },
 "nbformat": 4,
 "nbformat_minor": 4
}
